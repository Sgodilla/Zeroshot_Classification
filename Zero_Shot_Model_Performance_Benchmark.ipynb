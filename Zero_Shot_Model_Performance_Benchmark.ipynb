{
  "nbformat": 4,
  "nbformat_minor": 0,
  "metadata": {
    "colab": {
      "provenance": [],
      "gpuType": "A100"
    },
    "kernelspec": {
      "name": "python3",
      "display_name": "Python 3"
    },
    "language_info": {
      "name": "python"
    },
    "accelerator": "GPU"
  },
  "cells": [
    {
      "cell_type": "markdown",
      "source": [
        "# Performance Benchmarking of Zero-Shot Models in Classifying Emails\n",
        "\n",
        "Before creating a zero-shot model aimed specifically towards classifying emails, we will bechmark the performance of two general zero-shot models created by Mortiz Laruer. He details the methodology of creating these general zero-shot models in his paper: [\"Building Efficient Universal Classifiers with Natural Language Inference\" (2023)](http://arxiv.org/abs/2312.17543).\n",
        "\n",
        "We will be testing his DeBERTa and RoBERTa based zero-shot models from hugging face. Links to these models can be found here:\n",
        "\n",
        "[MoritzLaurer/deberta-v3-large-zeroshot-v1.1-all-33](https://huggingface.co/MoritzLaurer/deberta-v3-large-zeroshot-v2.0)\n",
        "\n",
        "[MoritzLaurer/roberta-large-zeroshot-v2.0](https://huggingface.co/MoritzLaurer/roberta-large-zeroshot-v2.0)"
      ],
      "metadata": {
        "id": "_mzFiT7He23r"
      }
    },
    {
      "cell_type": "markdown",
      "source": [
        "## What are zero-shot models?\n",
        "\n",
        "Zero-shot classifiers or universal classifiers are machine learning models that have been trained on a set of labeled data but then is also able to classify new data on classes it has never seen before. In the context of text classfication, a zero-shot model can be given a piece of example text and an array of possible class names and is expected to return an array of confidence scores for each possible class (most often an array of floats ranging from 0.0-1.0).  \n",
        "\n",
        "For example, given the following text and possible class names we would get the following confidence scores:\n",
        "\n",
        "Input Text:\n",
        "\"Last week I upgraded my iOS version and ever since then my phone has been overheating whenever I use your app.\"\n",
        "\n",
        "Input Class Names: [mobile, website, billing, account access]\n",
        "\n",
        "Output Confidence Scores: [0.980, 0.011, 0.005, 0.003]\n",
        "\n",
        "In this instance, the zero-shot model believes that the input text is most correlated with the class of \"mobile\". In the context of email classification, this would allow us to categorize emails based on the content their subject lines and/or message bodies.\n"
      ],
      "metadata": {
        "id": "8pC2ntQtg9d6"
      }
    },
    {
      "cell_type": "markdown",
      "source": [
        "## Benchmark Dataset\n",
        "\n",
        "The above huggingface models were tested on a mixture of synthetically generated data and two commercially-friendly NLI datasets (MNLI, FEVER-NLI). To test their performance in classifying emails, we will utilize UC Berkley's Enron Email Analysis dataset which contains a subset of 1700 labeled email messages from the Eron email corpus. These labled emails have a variety of annotations. The type we are interested in is the primary topics annotation with provides 13 possible classes that an email can be labeled with.\n",
        "\n",
        "The dataset and class names can be found here:\n",
        "[UC Berkley Enron Email Analysis](https://bailando.berkeley.edu/enron_email.html)\n",
        "\n",
        "After downloading the dataset, you will find the following folder structure:\n",
        "\n",
        "<pre>\n",
        "enron_with_categories\n",
        "├── categories.txt\n",
        "├── 1\n",
        "    ├── email_thread_1.txt\n",
        "    ├── email_thread_1.cats\n",
        "    ├── email_thread_2.txt\n",
        "    ├── email_thread_2.cats\n",
        "    ├── email_thread_3.txt\n",
        "    ├── email_thread_3.cats\n",
        "    ├── ...\n",
        "├── 2\n",
        "├── 3\n",
        "├── ...\n",
        "</pre>\n",
        "\n",
        "The categories.txt file contains all the possible class names as well as other annotations such as emotional tone. There are 8 top-level folder pertaining to the type of email thread that the folder contains (company business, personal email, logistics, empty message, etc.) This benchmark will only deal with email threads in the first folder - company business. Only these emails have been annotated with the primary topic label.\n",
        "\n",
        "With regards to the primary topic label, there are 13 possible classes:\n",
        "<pre>\n",
        "3 Primary topics (if coarse genre 1.1 is selected)\n",
        "\n",
        "3.1 regulations and regulators (includes price caps)\n",
        "3.2 internal projects -- progress and strategy\n",
        "3.3 company image -- current\n",
        "3.4 company image -- changing / influencing\n",
        "3.5 political influence / contributions / contacts\n",
        "3.6 california energy crisis / california politics\n",
        "3.7 internal company policy\n",
        "3.8 internal company operations\n",
        "3.9 alliances / partnerships\n",
        "3.10 legal advice\n",
        "3.11 talking points\n",
        "3.12 meeting minutes\n",
        "3.13 trip reports\n",
        "</pre>\n",
        "\n",
        "We can now plot the class distribution of this dataset."
      ],
      "metadata": {
        "id": "Fytu0JqXi-UH"
      }
    },
    {
      "cell_type": "code",
      "execution_count": 3,
      "metadata": {
        "id": "DrDJv84Uo_Qw",
        "colab": {
          "base_uri": "https://localhost:8080/",
          "height": 0
        },
        "outputId": "18e50e04-14f5-4b2d-f73d-c848e1a8bd23"
      },
      "outputs": [
        {
          "output_type": "stream",
          "name": "stdout",
          "text": [
            "Mounted at /content/drive\n"
          ]
        }
      ],
      "source": [
        "# Read files from google drive\n",
        "from google.colab import drive\n",
        "drive.mount('/content/drive')"
      ]
    },
    {
      "cell_type": "code",
      "source": [
        "# Array of classes\n",
        "topics = [\n",
        "    \"regulations and regulators (includes price caps)\",\n",
        "    \"internal projects -- progress and strategy\",\n",
        "    \"company image -- current\",\n",
        "    \"company image -- changing / influencing\",\n",
        "    \"political influence / contributions / contacts\",\n",
        "    \"california energy crisis / california politics\",\n",
        "    \"internal company policy\",\n",
        "    \"internal company operations\",\n",
        "    \"alliances / partnerships\",\n",
        "    \"legal advice\",\n",
        "    \"talking points\",\n",
        "    \"meeting minutes\",\n",
        "    \"trip reports\",\n",
        "]\n",
        "\n",
        "print(topics[0])\n",
        "print(len(topics))"
      ],
      "metadata": {
        "colab": {
          "base_uri": "https://localhost:8080/",
          "height": 0
        },
        "id": "GJz3yDZLw3W5",
        "outputId": "c1ae0577-5b93-40a2-8e76-61378770be12"
      },
      "execution_count": 4,
      "outputs": [
        {
          "output_type": "stream",
          "name": "stdout",
          "text": [
            "regulations and regulators (includes price caps)\n",
            "13\n"
          ]
        }
      ]
    },
    {
      "cell_type": "code",
      "source": [
        "# Read categories file\n",
        "def get_email_thread_topics(email_thread):\n",
        "  with open(email_thread) as f:\n",
        "    # Print all lines\n",
        "    lines = f.readlines()\n",
        "    # print(lines)\n",
        "\n",
        "    # Print only the lines starting with number 3\n",
        "    email_thread_topics = []\n",
        "    for line in lines:\n",
        "      category = line.split(',')\n",
        "      if category[0] == \"3\":\n",
        "        # print(category)\n",
        "        # Second number in category array is topic index\n",
        "        email_thread_topics.append(topics[int(category[1]) - 1])\n",
        "\n",
        "    # Create tuple of file and topics\n",
        "    email_thread = (f.name, email_thread_topics)\n",
        "    # print(email_thread)\n",
        "    return email_thread_topics\n",
        "\n",
        "print(get_email_thread_topics('/content/drive/My Drive/Gmail Extension Senior Project/enron_with_categories/1/6178.cats'))"
      ],
      "metadata": {
        "colab": {
          "base_uri": "https://localhost:8080/",
          "height": 0
        },
        "id": "EaweDI5ssa5G",
        "outputId": "1e2fb76b-b490-42b4-c65a-e735b9b36316"
      },
      "execution_count": 5,
      "outputs": [
        {
          "output_type": "stream",
          "name": "stdout",
          "text": [
            "['regulations and regulators (includes price caps)', 'california energy crisis / california politics']\n"
          ]
        }
      ]
    },
    {
      "cell_type": "code",
      "source": [
        "# Read content file\n",
        "def get_email_thread_content(email_thread):\n",
        "  with open(email_thread) as f:\n",
        "    return f.read()\n",
        "\n",
        "print(get_email_thread_content('/content/drive/My Drive/Gmail Extension Senior Project/enron_with_categories/1/6178.txt'))"
      ],
      "metadata": {
        "colab": {
          "base_uri": "https://localhost:8080/",
          "height": 0
        },
        "id": "kL2BhsbTNpjj",
        "outputId": "ca10346f-de29-4c58-902d-fe478979223b"
      },
      "execution_count": 6,
      "outputs": [
        {
          "output_type": "stream",
          "name": "stdout",
          "text": [
            "Message-ID: <2419450.1075840042358.JavaMail.evans@thyme>\n",
            "Date: Fri, 11 May 2001 15:26:17 -0700 (PDT)\n",
            "From: mike.swerzbin@enron.com\n",
            "To: m..driscoll@enron.com\n",
            "Subject: \n",
            "Mime-Version: 1.0\n",
            "Content-Type: text/plain; charset=us-ascii\n",
            "Content-Transfer-Encoding: 7bit\n",
            "X-From: Swerzbin, Mike </O=ENRON/OU=NA/CN=RECIPIENTS/CN=MSWERZB>\n",
            "X-To: Driscoll, Michael M. </O=ENRON/OU=NA/CN=RECIPIENTS/CN=Mdrisc3>\n",
            "X-cc: \n",
            "X-bcc: \n",
            "X-Folder: \\ExMerge - Swerzbin, Mike\\Sent Items\n",
            "X-Origin: SWERZBIN-M\n",
            "X-FileName: \n",
            "\n",
            "   BY MARK GOLDEN                                                               \n",
            "   A DOW JONES NEWSWIRES COLUMN                                                 \n",
            "                                                                                \n",
            "   NEW YORK (DOW JONES)--THE CALIFORNIA SENATE IN SACRAMENTO PASSED A           \n",
            "WINDFALL-PROFITS TAX ON SALES OF ELECTRICITY INTO THE STATE'S WHOLESALE         \n",
            "ELECTRICITY MARKET MONDAY AFTERNOON AT 4:50 P.M. PDT. AT ALMOST EXACTLY THE SAME\n",
            "TIME, CALIFORNIA INDEPENDENT SYSTEM OPERATOR INITIATED ROLLING BLACKOUTS FOR THE\n",
            "FIRST TIME SINCE MARCH.                                                         \n",
            "   COINCIDENCE? PROBABLY, BUT THE CONNECTION SHOULDN'T BE IGNORED.              \n",
            "   \"THE POLICY DECISIONS THAT HAVE BEEN ADOPTED IN CALIFORNIA TO DATE HAVE      \n",
            "ACCELERATED AN ALREADY SERIOUS MARKET COLLAPSE,\" SAID A HARVARD UNIVERSITY STUDY\n",
            "OF CALIFORNIA'S ENERGY CRISIS LATE LAST MONTH.                                  \n",
            "   THIS WEEK'S WINDFALL-PROFITS TAX BILL IS THE LATEST BLUNT INSTRUMENT WIELDED \n",
            "WITH POTENTIALLY DISASTROUS RESULTS. GOV. GRAY DAVIS WANTED IT AS A STICK WHEN  \n",
            "                                                                          (CONT)\n",
            "MEETING WITH EXECUTIVES FROM THE STATE'S MERCHANT POWER COMPANIES WEDNESDAY. THE\n",
            "MANEUVER WAS LESS THAN ADROIT, AND THE GENERATORS WEREN'T IMPRESSED.            \n",
            "   AFTER THE MEETING WITH DAVIS, RELIANT ENERGY'S (REI) JOHN STOUT SAID THAT IF \n",
            "THE TAX WERE IMPLEMENTED IN CALIFORNIA, IT WOULD \"INSTANTLY BLACK OUT ALL THE   \n",
            "GENERATION IN THE STATE.\"                                                       \n",
            "   THE STATE'S LEADERS MIGHT KEEP IN MIND WHO WIELDS THE BIGGER STICK AT THIS   \n",
            "POINT. CALIFORNIA SET UP A MARKET IN WHICH SELLERS HAVE BEEN ABLE TO CHARGE VERY\n",
            "HIGH PRICES FOR ELECTRICITY SINCE SUPPLIES STARTED GETTING TIGHT A YEAR AGO.    \n",
            "SELLERS SAY THEY HAVE PLAYED BY THE RULES THEY WERE GIVEN, AND NOBODY HAS PROVED\n",
            "OTHERWISE WITH THE ONE EXCEPTION OF A FINE PAID BY WILLIAMS COMPANIES (WMB) FOR \n",
            "ONE PARTICULAR INSTANCE OF VIOLATING A CONTRACT.                                \n",
            "   \"IT'S LIKE SOMEBODY INVENTED A NEW GAME, INVITED YOU OVER TO PLAY AND THEN   \n",
            "CHANGED THE RULES A COUPLE OF TIMES IN THE MIDDLE OF THE GAME. THEN, AFTER YOU  \n",
            "BEAT THEM, THEY INSIST YOU CHEATED,\" SAID ONE WESTERN ENERGY TRADER.            \n",
            "   ALMOST EVERY ATTEMPT BY THE BUY SIDE - THE UTILITIES, THE ISO AND NOW THE    \n",
            "                                                                          (CONT)\n",
            "STATE TREASURY - TO LOWER PRICES HAS RESULTED IN HIGHER PRICES OR BLACKOUTS OR  \n",
            "BOTH. THE WINDFALL-PROFITS TAX IDEA IS THE MOST RECENT EXAMPLE, BUT THOSE WHO   \n",
            "INSIST ON PRICE CAPS SHOULD KEEP THIS IN MIND: THE ISO HAS HAD PRICE CAPS SINCE \n",
            "IT BEGAN OPERATION MORE THAN THREE YEARS AGO. OBVIOUSLY, PRICE CAPS HAVEN'T     \n",
            "WORKED, JUST AS THEY HAVE NEVER WORKED EXCEPT DURING WARTIME.                   \n",
            "   IN FACT, PRICE CAPS HAVE BEEN A QUESTIONABLE MEDICINE PRESCRIBED FOR THE     \n",
            "WRONG DISEASE. AT BEST, PRICE CAPS MIGHT RESTRICT PRICE SPIKES. CALIFORNIA'S    \n",
            "PROBLEM IS PERPETUAL HIGH PRICES. IT CAN'T AFFORD THE GOING RATE AT NIGHTTIME,  \n",
            "LET ALONE THE HIGHER MARKET PRICES DURING THE AFTERNOONS IN A HEATWAVE.         \n",
            "   CALIFORNIA MUST FIGURE OUT HOW TO PLAY BETTER THE GAME IT INVENTED. THE      \n",
            "INSANELY COMPLICATED COMPUTER-BASED PURCHASING OF POWER ENDED A FEW MONTHS AGO, \n",
            "AFTER THE CALIFORNIA POWER EXCHANGE WAS CLOSED DOWN BY FEDERAL REGULATORS AND   \n",
            "THE ISO LOST ITS FINANCIAL ABILITY TO BUY POWER. THE MATCH BETWEEN THE PROGRAMS \n",
            "AND THE ENERGY TRADERS WASN'T EXACTLY IBM'S \"BIG BLUE\" VERSUS GARRY KASPAROV.   \n",
            "   ALMOST EVERYONE IN THE MARKET AGREES THAT THE UTILITIES' HUMAN TRADERS COULD \n",
            "                                                                          (CONT)\n",
            "HAVE BOUGHT NEEDED POWER FOR BILLIONS OF DOLLARS LESS THAN THE PROGRAMS THAT THE\n",
            "UTILITIES WERE REQUIRED TO USE BY STATE LAW.                                    \n",
            "   SINCE THE DEMISE OF PROGRAMMED PURCHASING, THE COMPUTERS HAVE BEEN REPLACED  \n",
            "BY HUMANS, BUT WITHOUT MUCH BETTER RESULTS. THE TEAM ASSEMBLED TO BUY TENS OF   \n",
            "MILLIONS OF DOLLARS WORTH OF SPOT POWER EVERY DAY CONSISTS MOSTLY OF FORMER     \n",
            "EMPLOYEES OF THE POWER EXCHANGE AND ISO, AS WELL AS EXPENSIVE CONSULTANTS WITH  \n",
            "NO ENERGY TRADING EXPERIENCE. ONE OF THE LEADERS OF THE TRADING TEAM, FOR       \n",
            "EXAMPLE, IS A FORMER PUBLIC RELATIONS DIRECTOR FOR THE POWER EXCHANGE WITH NO   \n",
            "TRADING EXPERIENCE PRIOR TO THE CURRENT JOB.                                    \n",
            "   AS ONE ISO EMPLOYEE WAS WONT TO SAY: \"IT'S LIKE WATCHING A FOOTBALL GAME     \n",
            "BETWEEN NOTRE DAME AND ST. MARY'S SCHOOL FOR UNWED MOTHERS.\"                    \n",
            "   AND THE SIGNING OF TENS OF BILLIONS OF DOLLARS OF FIVE- AND 10-YEAR CONTRACTS\n",
            "IS BEING EXECUTED MAINLY BY FORMER EXECUTIVES OF SOUTHERN CALIFORNIA EDISON -   \n",
            "PEOPLE THAT LEFT THE UTILITY YEARS AGO TO BECOME CONSULTANTS AND ALSO DON'T HAVE\n",
            "TRADING EXPERIENCE.                                                             \n",
            "   GOOD IDEAS, MEANWHILE, HAVE LANGUISHED.                                (CONT)\n",
            "   \"WE ARE GOING TO INSTALL METERS IN EVERY MAJOR COMMERCIAL CONCERN IN THE     \n",
            "STATE THIS SUMMER AND GO TO REAL-TIME PRICING,\" DAVIS TOLD WALL STREET ANALYSTS \n",
            "ON FEB. 28.                                                                     \n",
            "   THAT PROPOSAL WAS GREETED BY MANY OBSERVERS AS THE MOST CONSTRUCTIVE IDEA    \n",
            "FROM THE GOVERNOR'S OFFICE TO DATE.                                             \n",
            "   WHAT HAS HAPPENED TO REAL-TIME PRICING FOR CALIFORNIA'S BIG BUSINESSES SINCE \n",
            "THEN? NOTHING.                                                                  \n",
            "   \"THE PROBLEM IS THAT EVERYBODY IN CALIFORNIA IS 'SPECIAL',\" SAID STANFORD    \n",
            "ECONOMIST AND CALIFORNIA ISO CONSULTANT FRANK WOLAK. EVERY INDUSTRY FROM OIL    \n",
            "REFINERS TO INTERNET SERVER FARMS HAS HAD LOBBYISTS IN SACRAMENTO SUCCESSFULLY  \n",
            "SECURING EXCEPTIONS TO THE RULE.                                                \n",
            "   \"MY POINT HAS BEEN THAT IF WHAT THEY DO IS SO VALUABLE, THEN THEY SHOULD BE  \n",
            "ABLE TO HANDLE THE HIGHER PRICES. BUSINESSES WITH ABOUT 10,000 MEGAWATTS OF LOAD\n",
            "HAVE REAL-TIME METERS. EVERY ONE OF THEM SHOULD BE GETTING MARKET PRICES,\" SAID \n",
            "WOLAK.                                                                          \n",
            "                                                                          (CONT)\n",
            "   ONE OF THE GREATEST ADVANTAGES THAT SELLERS OF ELECTRICITY TO CALIFORNIA HAVE\n",
            "HAD IS THAT CONSUMERS HAVE FIXED PRICES, SO DEMAND IS INFLEXIBLE. SELLERS KNOW  \n",
            "EXACTLY HOW MUCH ELECTRICITY THE UTILITIES MUST BUY BASED ON TEMPERATURES AND   \n",
            "THE TIME OF DAY, WOLAK SAYS, AND THEY SIMPLY SUPPLY THE MARKET JUST ENOUGH POWER\n",
            "AT HIGH MARGINAL PRICES.                                                        \n",
            "   REDUCING OVERALL CONSUMPTION THROUGH HIGHER RATES WILL HELP THE STATE SOME,  \n",
            "BUT MAKING 25% OF DEMAND FLEXIBLE BASED ON PRICE WOULD GIVE THE STATE A FIGHTING\n",
            "CHANCE IN THE MARKET, ACCORDING TO WOLAK.                                       \n",
            "   BUT THAT, APPARENTLY, IS TOO COMPLICATED OR POLITICALLY DIFFICULT. PRICE     \n",
            "CAPS, A WINDFALL-PROFITS TAX AND POLITICAL PATRONAGE JOBS FOR BUYING BILLIONS OF\n",
            "DOLLARS OF POWER MAY NOT SAVE THE STATE FROM BANKRUPTCY, BUT THEY ARE EASIER TO \n",
            "SELL - OR SLIP THROUGH - IN SACRAMENTO.                                         \n",
            "   -BY MARK GOLDEN, DOW JONES NEWSWIRES; 201-938-4604; MARK.GOLDEN@DOWJONES.COM \n",
            "                                                \n"
          ]
        }
      ]
    },
    {
      "cell_type": "code",
      "source": [
        "# Read all files from directory\n",
        "import os"
      ],
      "metadata": {
        "id": "c3zedV8NtMYy"
      },
      "execution_count": 7,
      "outputs": []
    },
    {
      "cell_type": "code",
      "source": [
        "email_threads_dir = '/content/drive/My Drive/Gmail Extension Senior Project/enron_with_categories/1/'\n",
        "\n",
        "# Loop through all files in email threads directory\n",
        "email_threads = []\n",
        "for filename in os.listdir(email_threads_dir):\n",
        "  if filename.endswith('.txt'): # Check if the file is a text file\n",
        "    basename, _ = os.path.splitext(filename)\n",
        "    email_content_path = os.path.join(email_threads_dir, basename + '.txt')\n",
        "    email_topics_path = os.path.join(email_threads_dir, basename + '.cats')\n",
        "    email_threads.append((email_content_path, email_topics_path))\n",
        "\n",
        "# Print first 10 email thread tuples and number of email threads\n",
        "print(email_threads[:10])\n",
        "print(len(email_threads))"
      ],
      "metadata": {
        "colab": {
          "base_uri": "https://localhost:8080/",
          "height": 0
        },
        "id": "o4e1XztvzqAW",
        "outputId": "f33d55ca-69ed-4121-fa84-dc02f754c415"
      },
      "execution_count": 8,
      "outputs": [
        {
          "output_type": "stream",
          "name": "stdout",
          "text": [
            "[('/content/drive/My Drive/Gmail Extension Senior Project/enron_with_categories/1/226952.txt', '/content/drive/My Drive/Gmail Extension Senior Project/enron_with_categories/1/226952.cats'), ('/content/drive/My Drive/Gmail Extension Senior Project/enron_with_categories/1/173928.txt', '/content/drive/My Drive/Gmail Extension Senior Project/enron_with_categories/1/173928.cats'), ('/content/drive/My Drive/Gmail Extension Senior Project/enron_with_categories/1/55205.txt', '/content/drive/My Drive/Gmail Extension Senior Project/enron_with_categories/1/55205.cats'), ('/content/drive/My Drive/Gmail Extension Senior Project/enron_with_categories/1/116661.txt', '/content/drive/My Drive/Gmail Extension Senior Project/enron_with_categories/1/116661.cats'), ('/content/drive/My Drive/Gmail Extension Senior Project/enron_with_categories/1/173978.txt', '/content/drive/My Drive/Gmail Extension Senior Project/enron_with_categories/1/173978.cats'), ('/content/drive/My Drive/Gmail Extension Senior Project/enron_with_categories/1/174011.txt', '/content/drive/My Drive/Gmail Extension Senior Project/enron_with_categories/1/174011.cats'), ('/content/drive/My Drive/Gmail Extension Senior Project/enron_with_categories/1/230693.txt', '/content/drive/My Drive/Gmail Extension Senior Project/enron_with_categories/1/230693.cats'), ('/content/drive/My Drive/Gmail Extension Senior Project/enron_with_categories/1/173418.txt', '/content/drive/My Drive/Gmail Extension Senior Project/enron_with_categories/1/173418.cats'), ('/content/drive/My Drive/Gmail Extension Senior Project/enron_with_categories/1/173925.txt', '/content/drive/My Drive/Gmail Extension Senior Project/enron_with_categories/1/173925.cats'), ('/content/drive/My Drive/Gmail Extension Senior Project/enron_with_categories/1/174008.txt', '/content/drive/My Drive/Gmail Extension Senior Project/enron_with_categories/1/174008.cats')]\n",
            "834\n"
          ]
        }
      ]
    },
    {
      "cell_type": "code",
      "source": [
        "# Get email topics\n",
        "all_email_topics = []\n",
        "for email_thread in email_threads:\n",
        "  email_topics = get_email_thread_topics(email_thread[1])\n",
        "  all_email_topics.extend(email_topics)\n",
        "\n",
        "# Print first 10 email topics\n",
        "print(all_email_topics[:10])"
      ],
      "metadata": {
        "colab": {
          "base_uri": "https://localhost:8080/",
          "height": 0
        },
        "id": "C9f0ZoJp8nfW",
        "outputId": "14ea3d42-ccf4-48c6-f60b-3c400d82baf2"
      },
      "execution_count": 9,
      "outputs": [
        {
          "output_type": "stream",
          "name": "stdout",
          "text": [
            "['internal company operations', 'regulations and regulators (includes price caps)', 'alliances / partnerships', 'california energy crisis / california politics', 'internal projects -- progress and strategy', 'california energy crisis / california politics', 'internal company operations', 'internal company operations', 'internal company operations', 'internal projects -- progress and strategy']\n"
          ]
        }
      ]
    },
    {
      "cell_type": "code",
      "source": [
        "import matplotlib.pyplot as plt\n",
        "import numpy as np\n",
        "from collections import Counter"
      ],
      "metadata": {
        "id": "GKPbNYRc7biz"
      },
      "execution_count": 10,
      "outputs": []
    },
    {
      "cell_type": "code",
      "source": [
        "# Count the occurrences of each topic\n",
        "topic_counts = Counter(all_email_topics)\n",
        "\n",
        "# Sort topics by frequency\n",
        "sorted_topics = sorted(topic_counts.items(), key=lambda x: x[1], reverse=True)\n",
        "sorted_labels = [item[0] for item in sorted_topics]\n",
        "sorted_counts = [item[1] for item in sorted_topics]\n",
        "\n",
        "# Generate a list of colors, one for each topic\n",
        "colors = plt.cm.viridis(np.linspace(0, 1, len(sorted_labels)))\n",
        "\n",
        "# Plot class distribution\n",
        "plt.figure(figsize=(10, 8))\n",
        "plt.bar(sorted_labels, sorted_counts, color=colors)\n",
        "plt.xlabel('Topics')\n",
        "plt.ylabel('Frequency')\n",
        "plt.xticks(rotation=90)  # Rotate labels to prevent overlap\n",
        "plt.title('Class Distribution of Topics')\n",
        "plt.show()"
      ],
      "metadata": {
        "colab": {
          "base_uri": "https://localhost:8080/",
          "height": 1036
        },
        "id": "OpGbCCsm2oXT",
        "outputId": "c62338e2-c5ea-4fb5-be23-ececcb2c5e8b"
      },
      "execution_count": 11,
      "outputs": [
        {
          "output_type": "display_data",
          "data": {
            "text/plain": [
              "<Figure size 1000x800 with 1 Axes>"
            ],
            "image/png": "[encoded data removed]"
          },
          "metadata": {}
        }
      ]
    },
    {
      "cell_type": "markdown",
      "source": [
        "As you can see above, the class distribution of the dataset favors emails regarding california energy policy and regulations. However, there should be enough variety in the class distribution of the data such that we should be able to properly test the classification performance of the models."
      ],
      "metadata": {
        "id": "PQin4CZx-eOq"
      }
    },
    {
      "cell_type": "markdown",
      "source": [
        "# Benchmark of Universal Classifiers on Eron Dataset\n",
        "\n",
        "Now that we have plotted the class distribution of the email dataset, we can now analyze the classification performance of the zero-shot models on this email dataset."
      ],
      "metadata": {
        "id": "JRXylY0i9XQF"
      }
    },
    {
      "cell_type": "code",
      "source": [
        "!pip install transformers datasets\n",
        "from transformers import pipeline\n",
        "from datasets import Dataset\n",
        "import torch"
      ],
      "metadata": {
        "colab": {
          "base_uri": "https://localhost:8080/",
          "height": 0
        },
        "id": "CUYICx_qM9XH",
        "outputId": "496537bb-8373-4466-d04b-518eabad5036"
      },
      "execution_count": 37,
      "outputs": [
        {
          "output_type": "stream",
          "name": "stdout",
          "text": [
            "Requirement already satisfied: transformers in /usr/local/lib/python3.10/dist-packages (4.38.2)\n",
            "Collecting datasets\n",
            "  Downloading datasets-2.18.0-py3-none-any.whl (510 kB)\n",
            "\u001b[2K     \u001b[90m━━━━━━━━━━━━━━━━━━━━━━━━━━━━━━━━━━━━━━━━\u001b[0m \u001b[32m510.5/510.5 kB\u001b[0m \u001b[31m11.5 MB/s\u001b[0m eta \u001b[36m0:00:00\u001b[0m\n",
            "\u001b[?25hRequirement already satisfied: filelock in /usr/local/lib/python3.10/dist-packages (from transformers) (3.13.3)\n",
            "Requirement already satisfied: huggingface-hub<1.0,>=0.19.3 in /usr/local/lib/python3.10/dist-packages (from transformers) (0.20.3)\n",
            "Requirement already satisfied: numpy>=1.17 in /usr/local/lib/python3.10/dist-packages (from transformers) (1.25.2)\n",
            "Requirement already satisfied: packaging>=20.0 in /usr/local/lib/python3.10/dist-packages (from transformers) (24.0)\n",
            "Requirement already satisfied: pyyaml>=5.1 in /usr/local/lib/python3.10/dist-packages (from transformers) (6.0.1)\n",
            "Requirement already satisfied: regex!=2019.12.17 in /usr/local/lib/python3.10/dist-packages (from transformers) (2023.12.25)\n",
            "Requirement already satisfied: requests in /usr/local/lib/python3.10/dist-packages (from transformers) (2.31.0)\n",
            "Requirement already satisfied: tokenizers<0.19,>=0.14 in /usr/local/lib/python3.10/dist-packages (from transformers) (0.15.2)\n",
            "Requirement already satisfied: safetensors>=0.4.1 in /usr/local/lib/python3.10/dist-packages (from transformers) (0.4.2)\n",
            "Requirement already satisfied: tqdm>=4.27 in /usr/local/lib/python3.10/dist-packages (from transformers) (4.66.2)\n",
            "Requirement already satisfied: pyarrow>=12.0.0 in /usr/local/lib/python3.10/dist-packages (from datasets) (14.0.2)\n",
            "Requirement already satisfied: pyarrow-hotfix in /usr/local/lib/python3.10/dist-packages (from datasets) (0.6)\n",
            "Collecting dill<0.3.9,>=0.3.0 (from datasets)\n",
            "  Downloading dill-0.3.8-py3-none-any.whl (116 kB)\n",
            "\u001b[2K     \u001b[90m━━━━━━━━━━━━━━━━━━━━━━━━━━━━━━━━━━━━━━━━\u001b[0m \u001b[32m116.3/116.3 kB\u001b[0m \u001b[31m16.8 MB/s\u001b[0m eta \u001b[36m0:00:00\u001b[0m\n",
            "\u001b[?25hRequirement already satisfied: pandas in /usr/local/lib/python3.10/dist-packages (from datasets) (1.5.3)\n",
            "Collecting xxhash (from datasets)\n",
            "  Downloading xxhash-3.4.1-cp310-cp310-manylinux_2_17_x86_64.manylinux2014_x86_64.whl (194 kB)\n",
            "\u001b[2K     \u001b[90m━━━━━━━━━━━━━━━━━━━━━━━━━━━━━━━━━━━━━━━━\u001b[0m \u001b[32m194.1/194.1 kB\u001b[0m \u001b[31m27.4 MB/s\u001b[0m eta \u001b[36m0:00:00\u001b[0m\n",
            "\u001b[?25hCollecting multiprocess (from datasets)\n",
            "  Downloading multiprocess-0.70.16-py310-none-any.whl (134 kB)\n",
            "\u001b[2K     \u001b[90m━━━━━━━━━━━━━━━━━━━━━━━━━━━━━━━━━━━━━━━━\u001b[0m \u001b[32m134.8/134.8 kB\u001b[0m \u001b[31m20.8 MB/s\u001b[0m eta \u001b[36m0:00:00\u001b[0m\n",
            "\u001b[?25hRequirement already satisfied: fsspec[http]<=2024.2.0,>=2023.1.0 in /usr/local/lib/python3.10/dist-packages (from datasets) (2023.6.0)\n",
            "Requirement already satisfied: aiohttp in /usr/local/lib/python3.10/dist-packages (from datasets) (3.9.3)\n",
            "Requirement already satisfied: aiosignal>=1.1.2 in /usr/local/lib/python3.10/dist-packages (from aiohttp->datasets) (1.3.1)\n",
            "Requirement already satisfied: attrs>=17.3.0 in /usr/local/lib/python3.10/dist-packages (from aiohttp->datasets) (23.2.0)\n",
            "Requirement already satisfied: frozenlist>=1.1.1 in /usr/local/lib/python3.10/dist-packages (from aiohttp->datasets) (1.4.1)\n",
            "Requirement already satisfied: multidict<7.0,>=4.5 in /usr/local/lib/python3.10/dist-packages (from aiohttp->datasets) (6.0.5)\n",
            "Requirement already satisfied: yarl<2.0,>=1.0 in /usr/local/lib/python3.10/dist-packages (from aiohttp->datasets) (1.9.4)\n",
            "Requirement already satisfied: async-timeout<5.0,>=4.0 in /usr/local/lib/python3.10/dist-packages (from aiohttp->datasets) (4.0.3)\n",
            "Requirement already satisfied: typing-extensions>=3.7.4.3 in /usr/local/lib/python3.10/dist-packages (from huggingface-hub<1.0,>=0.19.3->transformers) (4.10.0)\n",
            "Requirement already satisfied: charset-normalizer<4,>=2 in /usr/local/lib/python3.10/dist-packages (from requests->transformers) (3.3.2)\n",
            "Requirement already satisfied: idna<4,>=2.5 in /usr/local/lib/python3.10/dist-packages (from requests->transformers) (3.6)\n",
            "Requirement already satisfied: urllib3<3,>=1.21.1 in /usr/local/lib/python3.10/dist-packages (from requests->transformers) (2.0.7)\n",
            "Requirement already satisfied: certifi>=2017.4.17 in /usr/local/lib/python3.10/dist-packages (from requests->transformers) (2024.2.2)\n",
            "Requirement already satisfied: python-dateutil>=2.8.1 in /usr/local/lib/python3.10/dist-packages (from pandas->datasets) (2.8.2)\n",
            "Requirement already satisfied: pytz>=2020.1 in /usr/local/lib/python3.10/dist-packages (from pandas->datasets) (2023.4)\n",
            "Requirement already satisfied: six>=1.5 in /usr/local/lib/python3.10/dist-packages (from python-dateutil>=2.8.1->pandas->datasets) (1.16.0)\n",
            "Installing collected packages: xxhash, dill, multiprocess, datasets\n",
            "Successfully installed datasets-2.18.0 dill-0.3.8 multiprocess-0.70.16 xxhash-3.4.1\n"
          ]
        }
      ]
    },
    {
      "cell_type": "code",
      "source": [
        "# Check if GPU is available\n",
        "device = \"cuda\" if torch.cuda.is_available() else \"cpu\"\n",
        "print(\"Using device:\", device)"
      ],
      "metadata": {
        "colab": {
          "base_uri": "https://localhost:8080/",
          "height": 0
        },
        "id": "-4mf7hSXSCps",
        "outputId": "eabb6414-7f2a-49f0-e9d9-22160d3f2169"
      },
      "execution_count": 24,
      "outputs": [
        {
          "output_type": "stream",
          "name": "stdout",
          "text": [
            "Using device: cuda\n"
          ]
        }
      ]
    },
    {
      "cell_type": "code",
      "source": [
        "# Setup DeBERTa and RoBERTa zero-shot model\n",
        "deberta_zeroshot_classifier = pipeline(\"zero-shot-classification\", model=\"MoritzLaurer/deberta-v3-large-zeroshot-v2.0\", device=0 if device == \"cuda\" else -1)\n",
        "roberta_zeroshot_classifier = pipeline(\"zero-shot-classification\", model=\"MoritzLaurer/roberta-large-zeroshot-v2.0\", device=0 if device == \"cuda\" else -1)"
      ],
      "metadata": {
        "id": "MyVaiHfsNDrr"
      },
      "execution_count": 25,
      "outputs": []
    },
    {
      "cell_type": "code",
      "source": [
        "# Test DeBERTa and RoBERTa zero-shot model\n",
        "text = get_email_thread_content('/content/drive/My Drive/Gmail Extension Senior Project/enron_with_categories/1/6178.txt')\n",
        "\n",
        "deberta_output_single = deberta_zeroshot_classifier(text, topics, multi_label=False)\n",
        "roberta_output_single = roberta_zeroshot_classifier(text, topics, multi_label=False)\n",
        "\n",
        "# Print most confident category\n",
        "print(topics[np.argmax(deberta_output[\"scores\"])])\n",
        "print(topics[np.argmax(roberta_output[\"scores\"])])"
      ],
      "metadata": {
        "colab": {
          "base_uri": "https://localhost:8080/",
          "height": 0
        },
        "id": "dS-YAHFwPugc",
        "outputId": "8cd40d01-d1d6-41f4-914a-667d07e006fa"
      },
      "execution_count": 61,
      "outputs": [
        {
          "output_type": "stream",
          "name": "stderr",
          "text": [
            "/usr/local/lib/python3.10/dist-packages/transformers/pipelines/base.py:1157: UserWarning: You seem to be using the pipelines sequentially on GPU. In order to maximize efficiency please use a dataset\n",
            "  warnings.warn(\n"
          ]
        },
        {
          "output_type": "stream",
          "name": "stdout",
          "text": [
            "regulations and regulators (includes price caps)\n",
            "regulations and regulators (includes price caps)\n"
          ]
        }
      ]
    },
    {
      "cell_type": "code",
      "source": [
        "all_email_contents = []\n",
        "all_email_topics = []\n",
        "for email_thread in email_threads:\n",
        "  email_content = get_email_thread_content(email_thread[0])\n",
        "  email_topics = get_email_thread_topics(email_thread[1])\n",
        "  all_email_contents.append(email_content)\n",
        "  all_email_topics.append(email_topics)\n",
        "\n",
        "print(all_email_contents[0])\n",
        "print(all_email_topics[0])"
      ],
      "metadata": {
        "colab": {
          "base_uri": "https://localhost:8080/",
          "height": 0
        },
        "id": "PfL3IepgWFNx",
        "outputId": "9f8587a8-2a6d-4158-9429-b19ec5d6b209"
      },
      "execution_count": 33,
      "outputs": [
        {
          "output_type": "stream",
          "name": "stdout",
          "text": [
            "Message-ID: <8041754.1075853069648.JavaMail.evans@thyme>\n",
            "Date: Tue, 16 Oct 2001 16:25:02 -0700 (PDT)\n",
            "From: lynn.blair@enron.com\n",
            "To: donna.scott@enron.com\n",
            "Subject: FW: Confidential - PAA - HW & TD\n",
            "Mime-Version: 1.0\n",
            "Content-Type: text/plain; charset=us-ascii\n",
            "Content-Transfer-Encoding: 7bit\n",
            "X-From: Blair, Lynn </O=ENRON/OU=NA/CN=RECIPIENTS/CN=LBLAIR>\n",
            "X-To: Scott, Donna </O=ENRON/OU=NA/CN=RECIPIENTS/CN=Dscott1>\n",
            "X-cc: \n",
            "X-bcc: \n",
            "X-Folder: \\LBLAIR (Non-Privileged)\\Blair, Lynn\\Sent Items\n",
            "X-Origin: Blair-L\n",
            "X-FileName: LBLAIR (Non-Privileged).pst\n",
            "\n",
            "\tHere are two we did for Harry and Tangie.  Thanks. Lynn\n",
            "\n",
            " -----Original Message-----\n",
            "From: \tDietz, Rick  \n",
            "Sent:\tSaturday, September 15, 2001 5:15 PM\n",
            "To:\tCorman, Shelley\n",
            "Cc:\tBlair, Lynn\n",
            "Subject:\tConfidential - PAA - HW & TD\n",
            "\n",
            "Please accept the attached Personal Achievement Award request for Harry Woodson and Tangie Dykes.  I have included both of them on the same request form since their recognition is for their contributions toward the ONEOK arbitration project.  If you have any questions, please let me know.\n",
            "\n",
            "Rick\n",
            "\n",
            " \n",
            "['internal company operations']\n"
          ]
        }
      ]
    },
    {
      "cell_type": "code",
      "source": [
        "# Create dataset of emails\n",
        "email_data = {'text': all_email_contents, 'labels': all_email_topics}\n",
        "email_dataset = Dataset.from_dict(email_data)"
      ],
      "metadata": {
        "id": "-28ik0BNce5L"
      },
      "execution_count": 64,
      "outputs": []
    },
    {
      "cell_type": "code",
      "source": [
        "# Execute classification of emails\n",
        "deberta_output_all = deberta_zeroshot_classifier(email_dataset['text'], topics, multi_label=False, batch_size=128)\n",
        "roberta_output_all = roberta_zeroshot_classifier(email_dataset['text'], topics, multi_label=False, batch_size=128)"
      ],
      "metadata": {
        "id": "zLwNp5-Da22Z"
      },
      "execution_count": 66,
      "outputs": []
    },
    {
      "cell_type": "code",
      "source": [
        "# Print first predictions\n",
        "print(topics[np.argmax(deberta_output_all[0][\"scores\"])])\n",
        "print(topics[np.argmax(roberta_output_all[0][\"scores\"])])\n",
        "\n",
        "# Print number of outputs\n",
        "print(len(roberta_output_all))"
      ],
      "metadata": {
        "colab": {
          "base_uri": "https://localhost:8080/",
          "height": 0
        },
        "id": "YfJnLMZ1bjp1",
        "outputId": "e725fc1d-d783-417c-efd1-ef3c8f60f1eb"
      },
      "execution_count": 67,
      "outputs": [
        {
          "output_type": "stream",
          "name": "stdout",
          "text": [
            "regulations and regulators (includes price caps)\n",
            "regulations and regulators (includes price caps)\n",
            "834\n"
          ]
        }
      ]
    },
    {
      "cell_type": "code",
      "source": [
        "deberta_num_correct = 0\n",
        "roberta_num_correct = 0\n",
        "\n",
        "for i in range(len(deberta_output_all)):\n",
        "  email_topics = all_email_topics[i]\n",
        "  deberta_chosen_topic = topics[np.argmax(deberta_output_all[0][\"scores\"])]\n",
        "  roberta_chosen_topic = topics[np.argmax(roberta_output_all[0][\"scores\"])]\n",
        "\n",
        "  if deberta_chosen_topic in email_topics:\n",
        "    deberta_num_correct += 1\n",
        "\n",
        "  if roberta_chosen_topic in email_topics:\n",
        "    roberta_num_correct += 1\n",
        "\n",
        "debrta_accuracy = deberta_num_correct / len(deberta_output_all)\n",
        "robrta_accuracy = deberta_num_correct / len(deberta_output_all)\n",
        "\n",
        "print(\"DeBERTa accuracy: \" + str(debrta_accuracy))\n",
        "print(\"RoBERTa accuracy: \" + str(robrta_accuracy))"
      ],
      "metadata": {
        "colab": {
          "base_uri": "https://localhost:8080/",
          "height": 0
        },
        "id": "KAaIw-hwSQZo",
        "outputId": "c81a98de-15f4-4bb1-ef02-e385d87ea962"
      },
      "execution_count": 71,
      "outputs": [
        {
          "output_type": "stream",
          "name": "stdout",
          "text": [
            "DeBERTa accuracy: 0.23261390887290168\n",
            "DeBERTa accuracy: 0.23261390887290168\n"
          ]
        }
      ]
    },
    {
      "cell_type": "markdown",
      "source": [
        "It appears that the performance of both these universal classifiers is farily poor on this Enron email dataset. Both the DeBERTa and RoBERTa based models only had an accuracy of 23%. To remedy this, we can do further training on labeled email datasets, provide greater context to the models by modifying the descriptiveness of the labels, and/or switch to a more powerful NLI model such as GPT-3."
      ],
      "metadata": {
        "id": "JIVJa2TGrxGR"
      }
    }
  ]
}